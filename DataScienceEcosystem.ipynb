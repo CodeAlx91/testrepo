{
 "cells": [
  {
   "cell_type": "markdown",
   "id": "94b69043-595f-4e15-ad48-6e145b675dbf",
   "metadata": {},
   "source": [
    "# Data Science Tools and Ecosystem"
   ]
  },
  {
   "cell_type": "markdown",
   "id": "6a3dd42a-ec26-4df0-9f40-983a70bf2f27",
   "metadata": {},
   "source": [
    "**Objectives:**\n"
   ]
  },
  {
   "cell_type": "markdown",
   "id": "1d56eedf-4101-4654-b559-566e8cf7ae6e",
   "metadata": {},
   "source": [
    "In this notebook, Data Science Tools and Ecosystem are summarized.\n"
   ]
  },
  {
   "cell_type": "markdown",
   "id": "db59fe03-1689-4570-b52c-ac60a8b02139",
   "metadata": {},
   "source": [
    "Some of the popular languages that Data Scientists use are:\n",
    "* Julia\n",
    "* Python\n",
    "* R\n",
    "* Java Script\n",
    "* C++"
   ]
  },
  {
   "cell_type": "markdown",
   "id": "6f8882ae-d03b-4594-b5a3-f67db446993f",
   "metadata": {},
   "source": [
    "Some of the commonly used libraries used by Data Scientists include:"
   ]
  },
  {
   "cell_type": "markdown",
   "id": "63b6a560-0a3d-47a9-b005-ddf0213cb98a",
   "metadata": {},
   "source": [
    "1.GGPLOT\n",
    "2.PLOTY\n",
    "3. LATIICE\n",
    "4.LEAFLET\n",
    "| Data Science Tools: |\n",
    "|---------------------|\n",
    "|R STUDIO |\n",
    "|JUPYTER |\n",
    "|GITHUB |\n",
    "\n",
    "Below are a few examples of evaluating arithmetic expressions in Python:\n"
   ]
  },
  {
   "cell_type": "code",
   "execution_count": 23,
   "id": "fe0eb19e-a4e2-466d-a75e-25af48cbe0a3",
   "metadata": {},
   "outputs": [
    {
     "data": {
      "text/plain": [
       "17"
      ]
     },
     "execution_count": 23,
     "metadata": {},
     "output_type": "execute_result"
    }
   ],
   "source": [
    "#This a simple arithmetic expression to mutiply then add integers\n",
    "#(3*4)+5\n",
    "(3*4)+5"
   ]
  },
  {
   "cell_type": "code",
   "execution_count": 11,
   "id": "cce509d6-794e-47fe-a746-050aed0ae1c4",
   "metadata": {},
   "outputs": [
    {
     "data": {
      "text/plain": [
       "3.3333333333333335"
      ]
     },
     "execution_count": 11,
     "metadata": {},
     "output_type": "execute_result"
    }
   ],
   "source": [
    "#This will convert 200 minutes to hours by diving by 60\n",
    "200/ 60"
   ]
  },
  {
   "cell_type": "markdown",
   "id": "9761507f-0981-49b7-9b99-e7ef2ca2be5e",
   "metadata": {},
   "source": [
    "## Author ##\n",
    "Alejandro Martínez \n",
    "Author"
   ]
  },
  {
   "cell_type": "code",
   "execution_count": null,
   "id": "b00ee2cf-3756-4d04-a8a4-2ee413d8fd03",
   "metadata": {},
   "outputs": [],
   "source": []
  }
 ],
 "metadata": {
  "kernelspec": {
   "display_name": "Python 3 (ipykernel)",
   "language": "python",
   "name": "python3"
  },
  "language_info": {
   "codemirror_mode": {
    "name": "ipython",
    "version": 3
   },
   "file_extension": ".py",
   "mimetype": "text/x-python",
   "name": "python",
   "nbconvert_exporter": "python",
   "pygments_lexer": "ipython3",
   "version": "3.12.4"
  }
 },
 "nbformat": 4,
 "nbformat_minor": 5
}
